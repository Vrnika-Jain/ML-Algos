{
  "nbformat": 4,
  "nbformat_minor": 0,
  "metadata": {
    "colab": {
      "provenance": []
    },
    "kernelspec": {
      "name": "python3",
      "display_name": "Python 3"
    },
    "language_info": {
      "name": "python"
    }
  },
  "cells": [
    {
      "cell_type": "markdown",
      "source": [
        "# **Apriori Algorithm**"
      ],
      "metadata": {
        "id": "t1BdCee0CO0a"
      }
    },
    {
      "cell_type": "markdown",
      "source": [
        "Apriori Algorithm refers to the algorithm which is used to calculate the association rules between objects. It means how two or more objects are related to one another. Apriori algorithm is also called frequent pattern mining. It helps the customers buy their products with ease and increases the sales performance. <br>\n",
        "The given three components comprise the apriori algorithm.\n",
        "1. Support\n",
        "2. Confidence\n",
        "3. Lift"
      ],
      "metadata": {
        "id": "OHqRtovVCdsx"
      }
    },
    {
      "cell_type": "code",
      "execution_count": 6,
      "metadata": {
        "id": "1q1OAUVbByAg"
      },
      "outputs": [],
      "source": [
        "import numpy as np\n",
        "from itertools import combinations\n",
        "\n",
        "class Apriori:\n",
        "    def __init__(self, min_support=0.5):\n",
        "        self.min_support = min_support\n",
        "        self.support_ = None\n",
        "        self.frequent_itemsets_ = None\n",
        "\n",
        "    def fit(self, transactions):\n",
        "        # Convert transactions to a list of sets\n",
        "        transactions = [set(transaction) for transaction in transactions]\n",
        "        n_transactions = len(transactions)\n",
        "\n",
        "        # Initialize variables to store support counts and frequent itemsets\n",
        "        support_count = {}\n",
        "        current_itemsets = self._find_frequent_1_itemsets(transactions, support_count, n_transactions)\n",
        "\n",
        "        self.frequent_itemsets_ = []\n",
        "        while current_itemsets:\n",
        "            self.frequent_itemsets_.extend(current_itemsets)\n",
        "            # Generate candidate itemsets\n",
        "            candidate_itemsets = self._generate_candidate_itemsets(current_itemsets)\n",
        "            # Filter candidate itemsets by minimum support\n",
        "            current_itemsets = self._filter_candidates_by_support(transactions, candidate_itemsets, support_count, n_transactions)\n",
        "\n",
        "        # Calculate final support values\n",
        "        self.support_ = {itemset: count / n_transactions for itemset, count in support_count.items() if count / n_transactions >= self.min_support}\n",
        "\n",
        "    def _find_frequent_1_itemsets(self, transactions, support_count, n_transactions):\n",
        "        item_count = {}\n",
        "        for transaction in transactions:\n",
        "            for item in transaction:\n",
        "                if item in item_count:\n",
        "                    item_count[item] += 1\n",
        "                else:\n",
        "                    item_count[item] = 1\n",
        "\n",
        "        frequent_1_itemsets = [frozenset([item]) for item, count in item_count.items() if count / n_transactions >= self.min_support]\n",
        "        support_count.update({frozenset([item]): count for item, count in item_count.items() if count / n_transactions >= self.min_support})\n",
        "        return frequent_1_itemsets\n",
        "\n",
        "    def _generate_candidate_itemsets(self, itemsets):\n",
        "        candidate_itemsets = set()\n",
        "        for itemset1 in itemsets:\n",
        "            for itemset2 in itemsets:\n",
        "                union_itemset = itemset1.union(itemset2)\n",
        "                if len(union_itemset) == len(itemset1) + 1:\n",
        "                    candidate_itemsets.add(union_itemset)\n",
        "        return candidate_itemsets\n",
        "\n",
        "    def _filter_candidates_by_support(self, transactions, candidate_itemsets, support_count, n_transactions):\n",
        "        itemset_count = {itemset: 0 for itemset in candidate_itemsets}\n",
        "        for transaction in transactions:\n",
        "            for itemset in candidate_itemsets:\n",
        "                if itemset.issubset(transaction):\n",
        "                    itemset_count[itemset] += 1\n",
        "\n",
        "        filtered_itemsets = [itemset for itemset, count in itemset_count.items() if count / n_transactions >= self.min_support]\n",
        "        support_count.update({itemset: count for itemset, count in itemset_count.items() if count / n_transactions >= self.min_support})\n",
        "        return filtered_itemsets\n",
        "\n",
        "    def get_support(self):\n",
        "        return self.support_\n",
        "\n",
        "    def get_frequent_itemsets(self):\n",
        "        return self.frequent_itemsets_"
      ]
    },
    {
      "cell_type": "code",
      "source": [
        "# Testing case\n",
        "if __name__ == \"__main__\":\n",
        "    transactions = [\n",
        "        ['milk', 'bread', 'eggs'],\n",
        "        ['milk', 'bread'],\n",
        "        ['milk', 'eggs'],\n",
        "        ['bread', 'eggs'],\n",
        "        ['milk', 'bread', 'eggs', 'butter'],\n",
        "        ['bread', 'butter']\n",
        "    ]\n",
        "\n",
        "    apriori = Apriori(min_support=0.5)\n",
        "    apriori.fit(transactions)\n",
        "\n",
        "    print(\"Frequent Itemsets:\")\n",
        "    for itemset in apriori.get_frequent_itemsets():\n",
        "        print(itemset)\n",
        "\n",
        "    print(\"\\nSupport Values:\")\n",
        "    for itemset, support in apriori.get_support().items():\n",
        "        print(f\"{itemset}: {support}\")"
      ],
      "metadata": {
        "colab": {
          "base_uri": "https://localhost:8080/"
        },
        "id": "ss5tny28CMiG",
        "outputId": "7c9f2c9a-7d8e-4ee4-8ca4-c622c8766091"
      },
      "execution_count": 7,
      "outputs": [
        {
          "output_type": "stream",
          "name": "stdout",
          "text": [
            "Frequent Itemsets:\n",
            "frozenset({'milk'})\n",
            "frozenset({'eggs'})\n",
            "frozenset({'bread'})\n",
            "frozenset({'milk', 'eggs'})\n",
            "frozenset({'milk', 'bread'})\n",
            "frozenset({'eggs', 'bread'})\n",
            "\n",
            "Support Values:\n",
            "frozenset({'milk'}): 0.6666666666666666\n",
            "frozenset({'eggs'}): 0.6666666666666666\n",
            "frozenset({'bread'}): 0.8333333333333334\n",
            "frozenset({'milk', 'eggs'}): 0.5\n",
            "frozenset({'milk', 'bread'}): 0.5\n",
            "frozenset({'eggs', 'bread'}): 0.5\n"
          ]
        }
      ]
    },
    {
      "cell_type": "code",
      "source": [],
      "metadata": {
        "id": "6XSHjpPqqzTi"
      },
      "execution_count": null,
      "outputs": []
    }
  ]
}