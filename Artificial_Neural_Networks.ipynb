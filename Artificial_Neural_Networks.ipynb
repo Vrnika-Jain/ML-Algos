{
  "nbformat": 4,
  "nbformat_minor": 0,
  "metadata": {
    "colab": {
      "provenance": []
    },
    "kernelspec": {
      "name": "python3",
      "display_name": "Python 3"
    },
    "language_info": {
      "name": "python"
    }
  },
  "cells": [
    {
      "cell_type": "markdown",
      "source": [
        "# **Artificial Neural Networks**"
      ],
      "metadata": {
        "id": "t1BdCee0CO0a"
      }
    },
    {
      "cell_type": "markdown",
      "source": [
        "Artificial Neural Networks contains artificial neurons which are called units. These neurons receive sensory input from the outside world which they process and then provide the output which might act as the input to the next neuron. <br>\n",
        "The activation function for output is ![image.png](data:image/png;base64,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) called sigmoid perceptron."
      ],
      "metadata": {
        "id": "OHqRtovVCdsx"
      }
    },
    {
      "cell_type": "code",
      "execution_count": 8,
      "metadata": {
        "id": "1q1OAUVbByAg"
      },
      "outputs": [],
      "source": [
        "import numpy as np\n",
        "\n",
        "class ArtificialNeuralNetwork:\n",
        "    def __init__(self, input_size, hidden_size, output_size, learning_rate=0.01, epochs=10000):\n",
        "        self.input_size = input_size\n",
        "        self.hidden_size = hidden_size\n",
        "        self.output_size = output_size\n",
        "        self.learning_rate = learning_rate\n",
        "        self.epochs = epochs\n",
        "\n",
        "        # Initialize weights\n",
        "        self.weights_input_hidden = np.random.rand(self.input_size, self.hidden_size)\n",
        "        self.weights_hidden_output = np.random.rand(self.hidden_size, self.output_size)\n",
        "\n",
        "        # Initialize biases\n",
        "        self.bias_hidden = np.random.rand(self.hidden_size)\n",
        "        self.bias_output = np.random.rand(self.output_size)\n",
        "\n",
        "    def sigmoid(self, x):\n",
        "        return 1 / (1 + np.exp(-x))\n",
        "\n",
        "    def sigmoid_derivative(self, x):\n",
        "        return x * (1 - x)\n",
        "\n",
        "    def fit(self, X, y):\n",
        "        for _ in range(self.epochs):\n",
        "            # Forward propagation\n",
        "            hidden_input = np.dot(X, self.weights_input_hidden) + self.bias_hidden\n",
        "            hidden_output = self.sigmoid(hidden_input)\n",
        "\n",
        "            final_input = np.dot(hidden_output, self.weights_hidden_output) + self.bias_output\n",
        "            final_output = self.sigmoid(final_input)\n",
        "\n",
        "            # Backward propagation\n",
        "            error = y - final_output\n",
        "            d_output = error * self.sigmoid_derivative(final_output)\n",
        "\n",
        "            error_hidden = d_output.dot(self.weights_hidden_output.T)\n",
        "            d_hidden = error_hidden * self.sigmoid_derivative(hidden_output)\n",
        "\n",
        "            # Update weights and biases\n",
        "            self.weights_hidden_output += hidden_output.T.dot(d_output) * self.learning_rate\n",
        "            self.weights_input_hidden += X.T.dot(d_hidden) * self.learning_rate\n",
        "            self.bias_output += np.sum(d_output, axis=0) * self.learning_rate\n",
        "            self.bias_hidden += np.sum(d_hidden, axis=0) * self.learning_rate\n",
        "\n",
        "    def predict(self, X):\n",
        "        hidden_input = np.dot(X, self.weights_input_hidden) + self.bias_hidden\n",
        "        hidden_output = self.sigmoid(hidden_input)\n",
        "\n",
        "        final_input = np.dot(hidden_output, self.weights_hidden_output) + self.bias_output\n",
        "        final_output = self.sigmoid(final_input)\n",
        "\n",
        "        return final_output"
      ]
    },
    {
      "cell_type": "code",
      "source": [
        "# Testing case\n",
        "if __name__ == \"__main__\":\n",
        "    # Example dataset for XOR problem\n",
        "    X = np.array([[0, 0],\n",
        "                  [0, 1],\n",
        "                  [1, 0],\n",
        "                  [1, 1]])\n",
        "    y = np.array([[0], [1], [1], [0]])\n",
        "\n",
        "    nn = ArtificialNeuralNetwork(input_size=2, hidden_size=2, output_size=1, learning_rate=0.1, epochs=10000)\n",
        "\n",
        "    nn.fit(X, y)\n",
        "\n",
        "    predictions = nn.predict(X)\n",
        "    print(\"Predictions:\")\n",
        "    print(predictions)"
      ],
      "metadata": {
        "colab": {
          "base_uri": "https://localhost:8080/"
        },
        "id": "ss5tny28CMiG",
        "outputId": "c4ac3090-504a-4206-8969-17cabb66c1a7"
      },
      "execution_count": 9,
      "outputs": [
        {
          "output_type": "stream",
          "name": "stdout",
          "text": [
            "Predictions:\n",
            "[[0.06269286]\n",
            " [0.94067371]\n",
            " [0.94158076]\n",
            " [0.06455238]]\n"
          ]
        }
      ]
    },
    {
      "cell_type": "code",
      "source": [],
      "metadata": {
        "id": "6XSHjpPqqzTi"
      },
      "execution_count": null,
      "outputs": []
    }
  ]
}