{
  "nbformat": 4,
  "nbformat_minor": 0,
  "metadata": {
    "colab": {
      "provenance": []
    },
    "kernelspec": {
      "name": "python3",
      "display_name": "Python 3"
    },
    "language_info": {
      "name": "python"
    }
  },
  "cells": [
    {
      "cell_type": "markdown",
      "source": [
        "# **Lasso Regression**"
      ],
      "metadata": {
        "id": "t1BdCee0CO0a"
      }
    },
    {
      "cell_type": "markdown",
      "source": [
        "Lasso regression—also known as **L1 regularization**—is a form of regularization for linear regression models. **Regularization** is a statistical method to reduce errors caused by overfitting on training data.<br>\n",
        "LASSO regression equation: <br>\n",
        "`L₁ = λ * (|β₁| + |β₂| + … + |βₚ|)` <br>\n",
        "where,\n",
        "- λ is the regularization parameter that controls the amount of regularization applied.\n",
        "- β₁, β₂,.., βₚ are the coefficients."
      ],
      "metadata": {
        "id": "OHqRtovVCdsx"
      }
    },
    {
      "cell_type": "code",
      "execution_count": 8,
      "metadata": {
        "id": "1q1OAUVbByAg"
      },
      "outputs": [],
      "source": [
        "import numpy as np\n",
        "\n",
        "class LassoRegression:\n",
        "    def __init__(self, learning_rate=0.01, n_iterations=1000, alpha=1.0):\n",
        "        self.learning_rate = learning_rate\n",
        "        self.n_iterations = n_iterations\n",
        "        self.alpha = alpha  # Regularization strength\n",
        "        self.weights = None\n",
        "        self.bias = None\n",
        "\n",
        "    def fit(self, X, y):\n",
        "        n_samples, n_features = X.shape\n",
        "\n",
        "        # Initialize weights and bias\n",
        "        self.weights = np.zeros(n_features)\n",
        "        self.bias = 0\n",
        "\n",
        "        # Gradient Descent\n",
        "        for _ in range(self.n_iterations):\n",
        "            y_predicted = np.dot(X, self.weights) + self.bias\n",
        "\n",
        "            # Calculate gradients\n",
        "            dw = (1 / n_samples) * np.dot(X.T, (y_predicted - y.ravel())) + self.alpha * np.sign(self.weights)\n",
        "            db = (1 / n_samples) * np.sum(y_predicted - y.ravel())\n",
        "\n",
        "            # Update weights and bias\n",
        "            self.weights -= self.learning_rate * dw\n",
        "            self.bias -= self.learning_rate * db\n",
        "\n",
        "    def predict(self, X):\n",
        "        return np.dot(X, self.weights) + self.bias"
      ]
    },
    {
      "cell_type": "code",
      "source": [
        "# testing a case\n",
        "if __name__ == \"__main__\":\n",
        "    from sklearn.model_selection import train_test_split\n",
        "    from sklearn.metrics import mean_squared_error\n",
        "    import matplotlib.pyplot as plt\n",
        "\n",
        "    # simple linear dataset\n",
        "    np.random.seed(42)\n",
        "    X = 2 * np.random.rand(100, 1)\n",
        "    y = 4 + 3 * X + np.random.randn(100, 1)\n",
        "\n",
        "    X_train, X_test, y_train, y_test = train_test_split(X, y, test_size=0.2, random_state=42)\n",
        "\n",
        "    regressor = LassoRegression(learning_rate=0.01, n_iterations=1000, alpha=0.1)\n",
        "    regressor.fit(X_train, y_train)\n",
        "\n",
        "    predictions = regressor.predict(X_test)\n",
        "\n",
        "    mse = mean_squared_error(y_test, predictions)\n",
        "    print(f'Mean Squared Error: {mse}')\n",
        "\n",
        "    plt.scatter(X_test, y_test, color='blue', label='Actual')\n",
        "    plt.plot(X_test, predictions, color='red', label='Predicted')\n",
        "    plt.xlabel('X')\n",
        "    plt.ylabel('y')\n",
        "    plt.legend()\n",
        "    plt.show()"
      ],
      "metadata": {
        "colab": {
          "base_uri": "https://localhost:8080/",
          "height": 466
        },
        "id": "ss5tny28CMiG",
        "outputId": "a824a988-3e67-4339-e43c-6de5adc5b690"
      },
      "execution_count": 9,
      "outputs": [
        {
          "output_type": "stream",
          "name": "stdout",
          "text": [
            "Mean Squared Error: 0.6667702861717398\n"
          ]
        },
        {
          "output_type": "display_data",
          "data": {
            "text/plain": [
              "<Figure size 640x480 with 1 Axes>"
            ],
            "image/png": "[encoded data removed]"
          },
          "metadata": {}
        }
      ]
    },
    {
      "cell_type": "code",
      "source": [],
      "metadata": {
        "id": "xX43t3WuE0fi"
      },
      "execution_count": null,
      "outputs": []
    }
  ]
}